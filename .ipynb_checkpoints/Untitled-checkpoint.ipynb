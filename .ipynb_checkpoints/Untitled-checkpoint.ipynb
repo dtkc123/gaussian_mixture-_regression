{
 "cells": [
  {
   "cell_type": "code",
   "execution_count": 53,
   "metadata": {},
   "outputs": [],
   "source": [
    "import numpy as np\n",
    "import scipy as sp\n",
    "from scipy.stats import multivariate_normal\n",
    "from sklearn.base import BaseEstimator, RegressorMixin\n",
    "from sklearn.mixture import GaussianMixture"
   ]
  },
  {
   "cell_type": "code",
   "execution_count": 54,
   "metadata": {},
   "outputs": [],
   "source": [
    "multivariate_normal?"
   ]
  },
  {
   "cell_type": "code",
   "execution_count": 57,
   "metadata": {},
   "outputs": [
    {
     "data": {
      "text/plain": [
       "array([6.34936359e-02, 8.70471771e-08, 2.24299432e-25, 6.34936359e-02])"
      ]
     },
     "execution_count": 57,
     "metadata": {},
     "output_type": "execute_result"
    }
   ],
   "source": [
    "multivariate_normal.pdf(np.array([[0,1,2], [3,4,5],[6,7,8],[0,1,2]]),mean = [0,1,2], cov=np.array([[1,0,0],[0,1,0],[0,0,1]]))"
   ]
  },
  {
   "cell_type": "code",
   "execution_count": 255,
   "metadata": {},
   "outputs": [],
   "source": [
    "mean = np.array([3, 5])\n",
    "cov = np.array([[4, -1.2], [-1.2, 1]])\n",
    "data_2 = multivariate_normal.rvs(mean, cov, size=200)"
   ]
  },
  {
   "cell_type": "code",
   "execution_count": 257,
   "metadata": {},
   "outputs": [
    {
     "data": {
      "text/plain": [
       "array([3.10658398, 4.99104666])"
      ]
     },
     "execution_count": 257,
     "metadata": {},
     "output_type": "execute_result"
    }
   ],
   "source": [
    "data_2.mean(axis=0)"
   ]
  },
  {
   "cell_type": "code",
   "execution_count": 35,
   "metadata": {},
   "outputs": [
    {
     "data": {
      "text/plain": [
       "0"
      ]
     },
     "execution_count": 35,
     "metadata": {},
     "output_type": "execute_result"
    }
   ],
   "source": [
    "a = np.arange(10000)\n",
    "sp.stats.mode(a)[0][0]\n"
   ]
  },
  {
   "cell_type": "code",
   "execution_count": 36,
   "metadata": {},
   "outputs": [],
   "source": [
    "X = np.random.random([100,10])\n",
    "gmm = GaussianMixture(n_components=2).fit(X)\n",
    "\n"
   ]
  },
  {
   "cell_type": "code",
   "execution_count": 40,
   "metadata": {},
   "outputs": [],
   "source": [
    "a = 0\n",
    "a += np.arange(9).reshape(3,-1)\n",
    "a += np.arange(9).reshape(3,-1)"
   ]
  },
  {
   "cell_type": "code",
   "execution_count": 44,
   "metadata": {},
   "outputs": [
    {
     "ename": "ValueError",
     "evalue": "Expected the input data X have 10 features, but got 4 features",
     "output_type": "error",
     "traceback": [
      "\u001b[0;31m---------------------------------------------------------------------------\u001b[0m",
      "\u001b[0;31mValueError\u001b[0m                                Traceback (most recent call last)",
      "\u001b[0;32m<ipython-input-44-2538e10acc36>\u001b[0m in \u001b[0;36m<module>\u001b[0;34m\u001b[0m\n\u001b[0;32m----> 1\u001b[0;31m \u001b[0mgmm\u001b[0m\u001b[0;34m.\u001b[0m\u001b[0mpredict_proba\u001b[0m\u001b[0;34m(\u001b[0m\u001b[0mX\u001b[0m\u001b[0;34m[\u001b[0m\u001b[0;34m:\u001b[0m\u001b[0;34m,\u001b[0m\u001b[0;34m:\u001b[0m\u001b[0;36m4\u001b[0m\u001b[0;34m]\u001b[0m\u001b[0;34m)\u001b[0m\u001b[0;34m\u001b[0m\u001b[0;34m\u001b[0m\u001b[0m\n\u001b[0m",
      "\u001b[0;32m~/anaconda3/lib/python3.6/site-packages/sklearn/mixture/base.py\u001b[0m in \u001b[0;36mpredict_proba\u001b[0;34m(self, X)\u001b[0m\n\u001b[1;32m    393\u001b[0m         \"\"\"\n\u001b[1;32m    394\u001b[0m         \u001b[0mself\u001b[0m\u001b[0;34m.\u001b[0m\u001b[0m_check_is_fitted\u001b[0m\u001b[0;34m(\u001b[0m\u001b[0;34m)\u001b[0m\u001b[0;34m\u001b[0m\u001b[0;34m\u001b[0m\u001b[0m\n\u001b[0;32m--> 395\u001b[0;31m         \u001b[0mX\u001b[0m \u001b[0;34m=\u001b[0m \u001b[0m_check_X\u001b[0m\u001b[0;34m(\u001b[0m\u001b[0mX\u001b[0m\u001b[0;34m,\u001b[0m \u001b[0;32mNone\u001b[0m\u001b[0;34m,\u001b[0m \u001b[0mself\u001b[0m\u001b[0;34m.\u001b[0m\u001b[0mmeans_\u001b[0m\u001b[0;34m.\u001b[0m\u001b[0mshape\u001b[0m\u001b[0;34m[\u001b[0m\u001b[0;36m1\u001b[0m\u001b[0;34m]\u001b[0m\u001b[0;34m)\u001b[0m\u001b[0;34m\u001b[0m\u001b[0;34m\u001b[0m\u001b[0m\n\u001b[0m\u001b[1;32m    396\u001b[0m         \u001b[0m_\u001b[0m\u001b[0;34m,\u001b[0m \u001b[0mlog_resp\u001b[0m \u001b[0;34m=\u001b[0m \u001b[0mself\u001b[0m\u001b[0;34m.\u001b[0m\u001b[0m_estimate_log_prob_resp\u001b[0m\u001b[0;34m(\u001b[0m\u001b[0mX\u001b[0m\u001b[0;34m)\u001b[0m\u001b[0;34m\u001b[0m\u001b[0;34m\u001b[0m\u001b[0m\n\u001b[1;32m    397\u001b[0m         \u001b[0;32mreturn\u001b[0m \u001b[0mnp\u001b[0m\u001b[0;34m.\u001b[0m\u001b[0mexp\u001b[0m\u001b[0;34m(\u001b[0m\u001b[0mlog_resp\u001b[0m\u001b[0;34m)\u001b[0m\u001b[0;34m\u001b[0m\u001b[0;34m\u001b[0m\u001b[0m\n",
      "\u001b[0;32m~/anaconda3/lib/python3.6/site-packages/sklearn/mixture/base.py\u001b[0m in \u001b[0;36m_check_X\u001b[0;34m(X, n_components, n_features, ensure_min_samples)\u001b[0m\n\u001b[1;32m     61\u001b[0m         raise ValueError(\"Expected the input data X have %d features, \"\n\u001b[1;32m     62\u001b[0m                          \u001b[0;34m\"but got %d features\"\u001b[0m\u001b[0;34m\u001b[0m\u001b[0;34m\u001b[0m\u001b[0m\n\u001b[0;32m---> 63\u001b[0;31m                          % (n_features, X.shape[1]))\n\u001b[0m\u001b[1;32m     64\u001b[0m     \u001b[0;32mreturn\u001b[0m \u001b[0mX\u001b[0m\u001b[0;34m\u001b[0m\u001b[0;34m\u001b[0m\u001b[0m\n\u001b[1;32m     65\u001b[0m \u001b[0;34m\u001b[0m\u001b[0m\n",
      "\u001b[0;31mValueError\u001b[0m: Expected the input data X have 10 features, but got 4 features"
     ]
    }
   ],
   "source": [
    "gmm.predict_proba"
   ]
  },
  {
   "cell_type": "code",
   "execution_count": 37,
   "metadata": {},
   "outputs": [
    {
     "data": {
      "text/plain": [
       "0.9999999999999997"
      ]
     },
     "execution_count": 37,
     "metadata": {},
     "output_type": "execute_result"
    }
   ],
   "source": [
    "gmm.weights_.sum()"
   ]
  },
  {
   "cell_type": "code",
   "execution_count": 25,
   "metadata": {},
   "outputs": [
    {
     "data": {
      "text/plain": [
       "(2, 5, 5)"
      ]
     },
     "execution_count": 25,
     "metadata": {},
     "output_type": "execute_result"
    }
   ],
   "source": [
    "gmm.precisions_[:,:5,:5].shape"
   ]
  },
  {
   "cell_type": "code",
   "execution_count": 58,
   "metadata": {},
   "outputs": [
    {
     "name": "stderr",
     "output_type": "stream",
     "text": [
      "/Users/nakagome/anaconda3/lib/python3.6/site-packages/ipykernel_launcher.py:3: RuntimeWarning: invalid value encountered in true_divide\n",
      "  This is separate from the ipykernel package so we can avoid doing imports until\n"
     ]
    },
    {
     "data": {
      "text/plain": [
       "array([nan, 0.5, 0.5, 0.5, 0.5, 0.5, 0.5, 0.5, 0.5, 0.5])"
      ]
     },
     "execution_count": 58,
     "metadata": {},
     "output_type": "execute_result"
    }
   ],
   "source": [
    "a = np.arange(10)\n",
    "b = np.arange(10)*2\n",
    "a/b\n"
   ]
  },
  {
   "cell_type": "code",
   "execution_count": 349,
   "metadata": {},
   "outputs": [],
   "source": [
    "import numpy as np\n",
    "import scipy as sp\n",
    "from scipy.stats import multivariate_normal\n",
    "from sklearn.base import BaseEstimator, RegressorMixin\n",
    "from sklearn.mixture import GaussianMixture\n",
    "\n",
    "class GMR(BaseEstimator, RegressorMixin):\n",
    "    \"\"\"\n",
    "    Gaussian mixture regression. Args are comply with sklearn.mixture.GaussianMixture.\n",
    "    \"\"\"\n",
    "    def __init__(self,n_components=1,\n",
    "                covariance_type='full',\n",
    "                tol=0.001,\n",
    "                reg_covar=1e-06,\n",
    "                max_iter=100,\n",
    "                n_init=1,\n",
    "                init_params='kmeans',\n",
    "                weights_init=None,\n",
    "                means_init=None,\n",
    "                precisions_init=None,\n",
    "                random_state=None,\n",
    "                warm_start=False,\n",
    "                verbose=0,\n",
    "                verbose_interval=10):\n",
    "        self.n_components = n_components\n",
    "        self.gmm = GaussianMixture(n_components=n_components,\n",
    "                                    covariance_type=covariance_type,\n",
    "                                    tol=tol,\n",
    "                                    reg_covar=reg_covar,\n",
    "                                    max_iter=max_iter,\n",
    "                                    n_init=n_init,\n",
    "                                    init_params=init_params,\n",
    "                                    weights_init=weights_init,\n",
    "                                    means_init=means_init,\n",
    "                                    precisions_init=precisions_init,\n",
    "                                    random_state=random_state,\n",
    "                                    warm_start=warm_start,\n",
    "                                    verbose=verbose,\n",
    "                                    verbose_interval=verbose_interval)\n",
    "    \n",
    "    def fit(self, X, Y):\n",
    "        \"\"\"\n",
    "        \n",
    "        Fitting the GMR model.\n",
    "        \n",
    "        Parameters\n",
    "        ----------\n",
    "        X : array, shape (n, n_features)\n",
    "        Y : array, shape (n, n_objectives)\n",
    "\n",
    "        Returns\n",
    "        -------\n",
    "        self\n",
    "        \"\"\"\n",
    "        D = np.hstack([X, Y])\n",
    "        self.gmm.fit(D)\n",
    "        self.dim_x = X.shape[1]\n",
    "        self.dim_y = Y.shape[1]\n",
    "        self.covariances = np.linalg.inv(self.gmm.precisions_)\n",
    "        return self\n",
    "    \n",
    "    def predict(self, X):\n",
    "        \"\"\"\n",
    "        \n",
    "        Forward prediction by GMR.\n",
    "        \n",
    "        Parameters\n",
    "        ----------\n",
    "        X : array, shape (n, n_features)\n",
    "\n",
    "        Returns\n",
    "        -------\n",
    "        Y : array, shape (n, n_objectives)\n",
    "        \"\"\"\n",
    "        weights, covs_xx, covs_xy, covs_yy, means_x, means_y = self._prepare()\n",
    "        weights_samples = self._calc_weights_each_samples(Y, means_y, covs_yy)\n",
    "        \n",
    "        means_y_given_x = 0.\n",
    "        for i in range(self.n_components):\n",
    "            means_y_i = means_y[i] + (X - means_x[i].reshape(1,-1)\\\n",
    "                                  ).dot(np.linalg.inv(covs_xx[i])\\\n",
    "                                       ).dot(covs_xy[i])\n",
    "            means_y_given_x += weights_samples[:,i].reshape(-1,1)*means_y_i\n",
    "        return means_y_given_x\n",
    "    \n",
    "    def _prepare(self):\n",
    "        means = self.gmm.means_\n",
    "        weights = self.gmm.weights_\n",
    "        \n",
    "        covs_xx = self.covariances[:,:self.dim_x, :self.dim_x]\n",
    "        covs_xy = self.covariances[:,:self.dim_x, self.dim_x:]\n",
    "        covs_yy = self.covariances[:,self.dim_x:, self.dim_x:]\n",
    "        means_x = means[:,:self.dim_x]\n",
    "        means_y = means[:,self.dim_x:]\n",
    "        return weights, covs_xx, covs_xy, covs_yy, means_x, means_y\n",
    "    \n",
    "    def _calc_weights_each_samples(self, Q, means_q, covs_qq):\n",
    "        # Q : X or Y\n",
    "        weights_samples = np.zeros((Q.shape[0], self.n_components))\n",
    "        for i in range(self.n_components):\n",
    "            pdf_q_i = multivariate_normal.pdf(Q, mean=means_q[i], cov=covs_qq[i])\n",
    "            weights_samples[:,i] = self.gmm.weights_[i]*pdf_q_i\n",
    "        weights_samples = weights_samples/np.sum(weights_samples, axis=1).reshape(-1,1)\n",
    "        return weights_samples\n",
    "        \n",
    "    \n",
    "    def inverse_predict(self, Y):\n",
    "        \"\"\"\n",
    "        \n",
    "        Inverse analysis by GMR via mean values of X given Y.\n",
    "        \n",
    "        Parameters\n",
    "        ----------\n",
    "        Y : array, shape (n, n_objectives)\n",
    "\n",
    "        Returns\n",
    "        -------\n",
    "        X : array, shape (n, n_features)\n",
    "        \"\"\"\n",
    "        weights, covs_xx, covs_xy, covs_yy, means_x, means_y = self._prepare()\n",
    "        weights_samples = self._calc_weights_each_samples(Y, means_y, covs_yy)\n",
    "        \n",
    "        \n",
    "        means_x_given_y = 0.\n",
    "        for i in range(self.n_components):\n",
    "            means_x_i = means_x[i] + (Y - means_y[i].reshape(1,-1)\\\n",
    "                                  ).dot(np.linalg.inv(covs_yy[i])\\\n",
    "                                       ).dot(covs_xy[i].T)\n",
    "            means_x_given_y += weights_samples[:,i].reshape(-1,1)*means_x_i\n",
    "        return means_x_given_y\n",
    "        \n",
    "    def inverse_sample(self, Y, n_samples = 10000):\n",
    "        \"\"\"\n",
    "        \n",
    "        Inverse analysis by GMR via sampling many samples for X given Y.\n",
    "        \n",
    "        Parameters\n",
    "        ----------\n",
    "        Y : array, shape (n, n_objectives)\n",
    "\n",
    "        Returns\n",
    "        -------\n",
    "        X_samples : array, shape (n_samples, n_features)\n",
    "        \"\"\"\n",
    "        if Y.ndim == 1:\n",
    "            Y = Y.reshape(1,-1)\n",
    "        weights, covs_xx, covs_xy, covs_yy, means_x, means_y = self._prepare()\n",
    "        weights_samples = self._calc_weights_each_samples(Y, means_y, covs_yy)\n",
    "        \n",
    "        means_x_given_ys = np.zeros([self.n_components, means_x.shape[1]])\n",
    "        covs_xx_given_ys = np.zeros([self.n_components, means_x.shape[1],means_x.shape[1]])\n",
    "        for i in range(self.n_components):\n",
    "            means_x_i = means_x[i] + (Y - means_y[i].reshape(1,-1)\\\n",
    "                                  ).dot(np.linalg.inv(covs_yy[i])\\\n",
    "                                       ).dot(covs_xy[i].T)\n",
    "            \n",
    "        \n",
    "            covs_x_i = covs_xx[i] - covs_xy[i].dot(np.linalg.inv(covs_yy[i]).dot(covs_xy[i].T))\n",
    "            print(means_x_i.shape)\n",
    "            print(covs_x_i.shape)\n",
    "            means_x_given_ys[i] = means_x_i\n",
    "            covs_xx_given_ys[i] = covs_x_i\n",
    "        \n",
    "        X_samples = np.zeros([Y.shape[0], n_samples, means_x.shape[1]])\n",
    "        for j in range(Y.shape[0]):\n",
    "            wj = weights_samples[j,:]\n",
    "            wj /= np.sum(wj)\n",
    "            \n",
    "            count = 0\n",
    "            for i in range(self.n_components):\n",
    "                if i != self.n_components-1:\n",
    "                    ns_ij = int(n_samples*wj[i])\n",
    "                    \n",
    "                else:\n",
    "                    ns_ij = n_samples - count\n",
    "                samples = multivariate_normal.rvs(means_x_given_ys[i,:], covs_xx_given_ys[i,:,:], size=ns_ij)\n",
    "                X_samples[j,count:ns_ij,:] = samples\n",
    "                count += ns_ij\n",
    "        return X_samples\n",
    "        \n",
    "if __name__==\"__main__\":\n",
    "    X = np.random.randn(100,2)\n",
    "    X[:50] += 3\n",
    "    A = np.random.randn(2,3)\n",
    "    Y = np.dot(X, A) + np.random.randn(100,3)\n",
    "    gmr = GMR(n_components=2)\n",
    "    gmr.fit(X[:70],Y[:70])\n",
    "    Y_pred = gmr.predict(X)\n",
    "    X_samples = gmr.inverse_sample(Y[0,:],n_samples=10)\n",
    "    X_pred = gmr.inverse_predict(Y)\n",
    "    \n",
    "    \n",
    "    "
   ]
  },
  {
   "cell_type": "code",
   "execution_count": 362,
   "metadata": {},
   "outputs": [],
   "source": [
    "GaussianMixture?"
   ]
  },
  {
   "cell_type": "code",
   "execution_count": 350,
   "metadata": {},
   "outputs": [],
   "source": [
    "X = np.random.randn(100,2)\n",
    "X[:50] += 3\n",
    "A = np.random.randn(2,3)\n",
    "Y = np.dot(X, A) + np.random.randn(100,3)"
   ]
  },
  {
   "cell_type": "code",
   "execution_count": 351,
   "metadata": {},
   "outputs": [],
   "source": [
    "gmr = GMR(n_components=2)\n",
    "gmr.fit(X[:70],Y[:70])"
   ]
  },
  {
   "cell_type": "code",
   "execution_count": 352,
   "metadata": {},
   "outputs": [],
   "source": [
    "Y_pred = gmr.predict(X)"
   ]
  },
  {
   "cell_type": "code",
   "execution_count": null,
   "metadata": {},
   "outputs": [],
   "source": []
  },
  {
   "cell_type": "code",
   "execution_count": 353,
   "metadata": {},
   "outputs": [
    {
     "name": "stdout",
     "output_type": "stream",
     "text": [
      "(1, 2)\n",
      "(2, 2)\n",
      "(1, 2)\n",
      "(2, 2)\n",
      "(2, 2) (2, 2, 2)\n",
      "(2, 2) (2, 2, 2)\n"
     ]
    }
   ],
   "source": [
    "X_samples = gmr.inverse_sample(Y[0,:],n_samples=10)"
   ]
  },
  {
   "cell_type": "code",
   "execution_count": 357,
   "metadata": {},
   "outputs": [
    {
     "data": {
      "text/plain": [
       "array([2.05849163, 3.26688833])"
      ]
     },
     "execution_count": 357,
     "metadata": {},
     "output_type": "execute_result"
    }
   ],
   "source": [
    "X[0]"
   ]
  },
  {
   "cell_type": "code",
   "execution_count": 356,
   "metadata": {},
   "outputs": [
    {
     "data": {
      "text/plain": [
       "array([[1.54837328, 3.48636154],\n",
       "       [1.77991501, 3.28929057],\n",
       "       [1.93273615, 3.5453667 ],\n",
       "       [1.97846423, 3.70722553],\n",
       "       [1.83204112, 3.3209023 ],\n",
       "       [2.11945046, 2.79072494],\n",
       "       [1.57781203, 3.09249691],\n",
       "       [1.85295157, 3.06565958],\n",
       "       [1.80010686, 2.96748657],\n",
       "       [1.83401967, 3.32893919]])"
      ]
     },
     "execution_count": 356,
     "metadata": {},
     "output_type": "execute_result"
    }
   ],
   "source": [
    "X_samples[0]"
   ]
  },
  {
   "cell_type": "code",
   "execution_count": 326,
   "metadata": {},
   "outputs": [
    {
     "data": {
      "text/plain": [
       "<matplotlib.collections.PathCollection at 0x7f9dedbeae80>"
      ]
     },
     "execution_count": 326,
     "metadata": {},
     "output_type": "execute_result"
    },
    {
     "data": {
      "image/png": "[encoded data removed]",
      "text/plain": [
       "<Figure size 432x288 with 1 Axes>"
      ]
     },
     "metadata": {
      "needs_background": "light"
     },
     "output_type": "display_data"
    }
   ],
   "source": [
    "from matplotlib import pyplot as plt\n",
    "plt.scatter(Y[:,0], Y_pred[:,0])"
   ]
  },
  {
   "cell_type": "code",
   "execution_count": 327,
   "metadata": {},
   "outputs": [],
   "source": [
    "X_pred = gmr.inverse_predict(Y)"
   ]
  },
  {
   "cell_type": "code",
   "execution_count": 328,
   "metadata": {},
   "outputs": [
    {
     "data": {
      "text/plain": [
       "<matplotlib.collections.PathCollection at 0x7f9dd0a93438>"
      ]
     },
     "execution_count": 328,
     "metadata": {},
     "output_type": "execute_result"
    },
    {
     "data": {
      "image/png": "[encoded data removed]",
      "text/plain": [
       "<Figure size 432x288 with 1 Axes>"
      ]
     },
     "metadata": {
      "needs_background": "light"
     },
     "output_type": "display_data"
    }
   ],
   "source": [
    "from matplotlib import pyplot as plt\n",
    "plt.scatter(X[:,0], X_pred[:,0])"
   ]
  },
  {
   "cell_type": "code",
   "execution_count": 42,
   "metadata": {},
   "outputs": [
    {
     "data": {
      "text/plain": [
       "array([[ 0.05686195,  0.00847873,  0.00995104,  0.01259821, -0.02536428,\n",
       "         0.00903954,  0.00686511, -0.00572902,  0.02258427,  0.00011361],\n",
       "       [ 0.00847873,  0.06859866, -0.01933005,  0.02058804, -0.00136631,\n",
       "        -0.01401853,  0.00945097, -0.0093033 , -0.0059857 , -0.00976882],\n",
       "       [ 0.00995104, -0.01933005,  0.08827152, -0.00058417, -0.00964543,\n",
       "         0.02602193, -0.02363373, -0.00332006,  0.00676498,  0.00269131],\n",
       "       [ 0.01259821,  0.02058804, -0.00058417,  0.08210473,  0.00108044,\n",
       "        -0.00261652, -0.00039275,  0.03464991,  0.01860954,  0.01464389],\n",
       "       [-0.02536428, -0.00136631, -0.00964543,  0.00108044,  0.0509976 ,\n",
       "        -0.01285024, -0.00925394,  0.00133177, -0.02233699,  0.00293487],\n",
       "       [ 0.00903954, -0.01401853,  0.02602193, -0.00261652, -0.01285024,\n",
       "         0.09699236,  0.02755579, -0.01818363, -0.0174479 ,  0.00491658],\n",
       "       [ 0.00686511,  0.00945097, -0.02363373, -0.00039275, -0.00925394,\n",
       "         0.02755579,  0.06799927, -0.01271609, -0.0092123 ,  0.01234728],\n",
       "       [-0.00572902, -0.0093033 , -0.00332006,  0.03464991,  0.00133177,\n",
       "        -0.01818363, -0.01271609,  0.09575624,  0.03972252, -0.00745202],\n",
       "       [ 0.02258427, -0.0059857 ,  0.00676498,  0.01860954, -0.02233699,\n",
       "        -0.0174479 , -0.0092123 ,  0.03972252,  0.07131639, -0.0159779 ],\n",
       "       [ 0.00011361, -0.00976882,  0.00269131,  0.01464389,  0.00293487,\n",
       "         0.00491658,  0.01234728, -0.00745202, -0.0159779 ,  0.08446849]])"
      ]
     },
     "execution_count": 42,
     "metadata": {},
     "output_type": "execute_result"
    }
   ],
   "source": [
    "np.linalg.inv(gmm.precisions_[0])"
   ]
  },
  {
   "cell_type": "markdown",
   "metadata": {},
   "source": []
  }
 ],
 "metadata": {
  "kernelspec": {
   "display_name": "Python 3",
   "language": "python",
   "name": "python3"
  },
  "language_info": {
   "codemirror_mode": {
    "name": "ipython",
    "version": 3
   },
   "file_extension": ".py",
   "mimetype": "text/x-python",
   "name": "python",
   "nbconvert_exporter": "python",
   "pygments_lexer": "ipython3",
   "version": "3.6.8"
  }
 },
 "nbformat": 4,
 "nbformat_minor": 2
}
